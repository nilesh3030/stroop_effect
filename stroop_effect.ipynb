{
 "cells": [
  {
   "cell_type": "markdown",
   "metadata": {},
   "source": [
    "# INTRODUCTION"
   ]
  },
  {
   "cell_type": "markdown",
   "metadata": {},
   "source": [
    "In psychology, the Stroop effect is a demonstration of interference in the reaction time of a task. When the name of a color (e.g., \"blue\", \"green\", or \"red\") is printed in a color that is not denoted by the name (e.g., the word \"red\" printed in blue ink instead of red ink), naming the color of the word takes longer and is more prone to errors than when the color of the ink matches the name of the color. The effect is named after John Ridley Stroop, who first published the effect in English in 1935.The effect has been used to create a psychological test (Stroop test) that is widely used in clinical practice and investigation."
   ]
  },
  {
   "cell_type": "markdown",
   "metadata": {},
   "source": [
    "It is much easier and quicker to name the colors if the actual colors of the printed color match the color which they actually denote. Let’s analyse some data on Stroop effect and reach the conclusion whether it actually takes more time or this is just a coincidence."
   ]
  },
  {
   "cell_type": "markdown",
   "metadata": {},
   "source": [
    "## Loading a small stroop data set"
   ]
  },
  {
   "cell_type": "code",
   "execution_count": 1,
   "metadata": {},
   "outputs": [
    {
     "name": "stdout",
     "output_type": "stream",
     "text": [
      "    Congruent  Incongruent\n",
      "0      12.079       19.278\n",
      "1      16.791       18.741\n",
      "2       9.564       21.214\n",
      "3       8.630       15.687\n",
      "4      14.669       22.803\n",
      "5      12.238       20.878\n",
      "6      14.692       24.572\n",
      "7       8.987       17.394\n",
      "8       9.401       20.762\n",
      "9      14.480       26.282\n",
      "10     22.328       24.524\n",
      "11     15.298       18.644\n",
      "12     15.073       17.510\n",
      "13     16.929       20.330\n",
      "14     18.200       35.255\n",
      "15     12.130       22.158\n",
      "16     18.495       25.139\n",
      "17     10.639       20.429\n",
      "18     11.344       17.425\n",
      "19     12.369       34.288\n",
      "20     12.944       23.894\n",
      "21     14.233       17.960\n",
      "22     19.710       22.058\n",
      "23     16.004       21.157\n"
     ]
    }
   ],
   "source": [
    "import numpy as np\n",
    "import pandas as pd\n",
    "import matplotlib.pyplot as pl\n",
    "%matplotlib inline\n",
    "data = pd.read_csv(r'C:\\Users\\MAVERICK\\Downloads\\stroopdata.csv')\n",
    "print(data)"
   ]
  },
  {
   "cell_type": "markdown",
   "metadata": {},
   "source": [
    "Here we see a table of 24 data pairs which was obtained in a stoop effect experiment. Now our analysis will be done using these data pairs. We see two columns here named Congruent and Incongruent , which have their usual meanings.\n",
    "##### Congruent - when colour named and the colour of letters are same . \n",
    "example - RED in written in red colour.\n",
    "##### Incongruent - when colour named and the colour of letters are different.\n",
    "example - RED in written in any other colour than red colour."
   ]
  },
  {
   "cell_type": "markdown",
   "metadata": {},
   "source": [
    "## 1 - Types of variables used in the experiment\n",
    "### Dependent Variable\n",
    "Here Dependent Variable is the time taken by the reader to read a particular word.\n",
    "### Independent Variable\n",
    "Clearly Independent Variable is whether condition applied is congruent or incongruent."
   ]
  },
  {
   "cell_type": "markdown",
   "metadata": {},
   "source": [
    "## 2 - Hypothesis and Statistical tests\n",
    "\n",
    "### Null Hypothesis (H0)\n",
    "H0: There is no difference in the population response time in both congruent and incongruent conditions\n",
    "\n",
    "H0 : μC = μI\n",
    "\n",
    "### Alternative Hypothesis (Ha)\n",
    "Ha: There is an increase in the population response time of incongruent condition than the congruent condition.\n",
    "\n",
    "Ha : μC < μI\n",
    "\n",
    "here , μC -> mean of congruent values\n",
    "\n",
    "  μI -> mean of incongruent values"
   ]
  },
  {
   "cell_type": "markdown",
   "metadata": {},
   "source": [
    "Here, we are going to take t-test beacuse we have no idea about poupulation mean and population standard deviation , so we can't use z-test. As our alternative hypothesis is that mean of incongruent samples will be more than the congruent samples therefore it is clear that we need a directional t-test (in positive direction).\n",
    "we are going to take this test at a confidence level of 95% .\n",
    "Also we can see that this test is done on a sample of 24 people under two conditions so this test comes under dependent sample test."
   ]
  },
  {
   "cell_type": "markdown",
   "metadata": {},
   "source": [
    "## 3 - Descriptive Statistics\n",
    "\n",
    "In this part, we are interested in the measures of central tendency of data and measures of variability of the data set. Here we have two samples , So we will calculate for both.\n",
    "\n",
    "### For Congruent sample"
   ]
  },
  {
   "cell_type": "code",
   "execution_count": 2,
   "metadata": {},
   "outputs": [
    {
     "name": "stdout",
     "output_type": "stream",
     "text": [
      "Mean of the Congruent data is :  14.051125000000004\n",
      "Median of the Congruent data is :  14.3565\n",
      "Standard deviation of the Congruent data sample is :  3.559357957645195\n"
     ]
    }
   ],
   "source": [
    "print(\"Mean of the Congruent data is : \",data['Congruent'].mean())\n",
    "print(\"Median of the Congruent data is : \",data['Congruent'].median())\n",
    "print(\"Standard deviation of the Congruent data sample is : \", data['Congruent'].std())"
   ]
  },
  {
   "cell_type": "markdown",
   "metadata": {},
   "source": [
    "### For Incongruent sample"
   ]
  },
  {
   "cell_type": "code",
   "execution_count": 3,
   "metadata": {},
   "outputs": [
    {
     "name": "stdout",
     "output_type": "stream",
     "text": [
      "Mean of the Incongruent data is :  22.01591666666667\n",
      "Median of the Incongruent data is :  21.0175\n",
      "Standard deviation of the Incongruent data sample is :  4.797057122469138\n"
     ]
    }
   ],
   "source": [
    "print(\"Mean of the Incongruent data is : \",data['Incongruent'].mean())\n",
    "print(\"Median of the Incongruent data is : \",data['Incongruent'].median())\n",
    "print(\"Standard deviation of the Incongruent data sample is : \", data['Incongruent'].std())"
   ]
  },
  {
   "cell_type": "markdown",
   "metadata": {},
   "source": [
    "From above statistics result , we can see that there is a significant difference in the values of both cases and seems like our alternative hypothesis is true but by looking at these stats we can't take any sure decisions so we will need to perform t-test , which we will do in the later part to get the final result."
   ]
  },
  {
   "cell_type": "markdown",
   "metadata": {},
   "source": [
    "## 4 - Visualization\n",
    "\n",
    "### BAR PLOT"
   ]
  },
  {
   "cell_type": "code",
   "execution_count": 4,
   "metadata": {},
   "outputs": [
    {
     "data": {
      "image/png": "[encoded data removed]",
      "text/plain": [
       "<matplotlib.figure.Figure at 0x1783c07c88>"
      ]
     },
     "metadata": {},
     "output_type": "display_data"
    }
   ],
   "source": [
    "data.plot.bar()\n",
    "pl.ylabel('Reading times in seconds')\n",
    "\n",
    "pl.show()"
   ]
  },
  {
   "cell_type": "markdown",
   "metadata": {},
   "source": [
    "In above bar plot we can see each yellow bar is greater than the blue bar which indicates than when there is incongruent condition then reader takes more time to read the word. Again we can say if each sample has more value than its counterpart then mean will be surely higher than the other. "
   ]
  },
  {
   "cell_type": "markdown",
   "metadata": {},
   "source": [
    "### BOX PLOT"
   ]
  },
  {
   "cell_type": "code",
   "execution_count": 5,
   "metadata": {},
   "outputs": [
    {
     "data": {
      "image/png": "[encoded data removed]",
      "text/plain": [
       "<matplotlib.figure.Figure at 0x17fff6ea58>"
      ]
     },
     "metadata": {},
     "output_type": "display_data"
    }
   ],
   "source": [
    "data.plot.box()\n",
    "pl.ylabel('Reading times in seconds')\n",
    "\n",
    "pl.show()"
   ]
  },
  {
   "cell_type": "markdown",
   "metadata": {},
   "source": [
    "In the earlier bar plot we have talked about mean values. Now In the Box plot we can see the median levels of both congruent and incongruent samples and there is a huge difference in the median values as well as the difference between lowest values are also considerably large.\n",
    "\n",
    "We can also see two dots at the top of incongruent box , these are the outlier values."
   ]
  },
  {
   "cell_type": "markdown",
   "metadata": {},
   "source": [
    "## 5 - Statistical Test\n",
    "Since our alternative hypotheses is that the reading times have increased, we will perform a one-tailed t-test. Taking an α level of 0.05, we get the t-statistic for a degree of freedom of 23, equal to 1.714. Now we can quickly do a t-test to determine whether the change is statisically significant or not."
   ]
  },
  {
   "cell_type": "code",
   "execution_count": 6,
   "metadata": {},
   "outputs": [
    {
     "data": {
      "text/plain": [
       "count    24.000000\n",
       "mean      7.964792\n",
       "std       4.864827\n",
       "min       1.950000\n",
       "25%       3.645500\n",
       "50%       7.666500\n",
       "75%      10.258500\n",
       "max      21.919000\n",
       "dtype: float64"
      ]
     },
     "execution_count": 6,
     "metadata": {},
     "output_type": "execute_result"
    }
   ],
   "source": [
    "difference = data['Incongruent'] - data['Congruent']\n",
    "difference.describe()"
   ]
  },
  {
   "cell_type": "markdown",
   "metadata": {},
   "source": [
    "Now we get the mean and standard deviation for our furthur calculations.\n",
    "\n",
    "mean = 7.964792\n",
    "\n",
    "std  = 4.864827\n",
    "\n",
    "Now we can calculate t_statistic for our result of analysis."
   ]
  },
  {
   "cell_type": "code",
   "execution_count": 7,
   "metadata": {},
   "outputs": [
    {
     "name": "stdout",
     "output_type": "stream",
     "text": [
      "t_statistic for our test is :  8.02070713199\n"
     ]
    }
   ],
   "source": [
    "t_statistic = 7.964792 / (4.864827 / np.sqrt(24))\n",
    "print(\"t_statistic for our test is : \", t_statistic)"
   ]
  },
  {
   "cell_type": "markdown",
   "metadata": {},
   "source": [
    "The two-tailed P value is less than 0.0001 . By conventional criteria, this difference is considered to be extremely statistically significant. \n",
    "\n",
    "Also we see that our t_statistic is much more greater than the t_critical value so we can reject our null hypotheis and our alternative hypothesis is found to be true about this test."
   ]
  },
  {
   "cell_type": "markdown",
   "metadata": {},
   "source": [
    "## 6 - More about the Hypothesis\n",
    "We just saw that people take more time in reading words with incongruent condition, it may be because at that time our mind has two variables to process i.e. one is the colour and another one is the word itself. So if we relate it to our tech world then we can say two process under the same specification will definitely take more time to process.\n",
    "\n",
    "Like stroop effect we may have many test like there are a bunch of known people to our subject and now we have two conditions like congruent and incongruent condition. In first condition these bunch of people wearing tshirts of their names and in second condition they wear name of different person.\n",
    "\n",
    "It is just an idea came into my mind , so it may have an positive or negative result than the previous one but it would be surely an interesting test to carry out."
   ]
  },
  {
   "cell_type": "markdown",
   "metadata": {},
   "source": [
    "### References - "
   ]
  },
  {
   "cell_type": "markdown",
   "metadata": {},
   "source": [
    "https://en.wikipedia.org/wiki/Stroop_effect\n",
    "\n",
    "http://www.statisticshowto.com/when-to-use-a-t-score-vs-z-score/\n",
    "\n",
    "https://www.graphpad.com/quickcalcs/pValue2/\n",
    "\n",
    "http://www.statstutor.ac.uk/resources/uploaded/paired-t-test.pdf"
   ]
  }
 ],
 "metadata": {
  "kernelspec": {
   "display_name": "Python [default]",
   "language": "python",
   "name": "python3"
  },
  "language_info": {
   "codemirror_mode": {
    "name": "ipython",
    "version": 3
   },
   "file_extension": ".py",
   "mimetype": "text/x-python",
   "name": "python",
   "nbconvert_exporter": "python",
   "pygments_lexer": "ipython3",
   "version": "3.6.1"
  }
 },
 "nbformat": 4,
 "nbformat_minor": 2
}
